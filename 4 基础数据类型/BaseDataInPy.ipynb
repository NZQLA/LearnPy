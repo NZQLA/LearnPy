{
 "cells": [
  {
   "cell_type": "markdown",
   "metadata": {},
   "source": [
    "# Python 中的 基础数据类型\n",
    "支持以下基础的数据类型:\n",
    "- `int` 整数\n",
    "- `float` 浮点数\n",
    "- `str` 字符串\n",
    "- `bool` 布尔值\n",
    "- `NoneType` 空值\n",
    "- `list` 列表\n",
    "- `tuple` 元组\n",
    "- `set` 集合\n",
    "- `dict` 字典\n"
   ]
  },
  {
   "cell_type": "code",
   "execution_count": null,
   "metadata": {},
   "outputs": [],
   "source": []
  }
 ],
 "metadata": {
  "kernelspec": {
   "display_name": "Python 3",
   "language": "python",
   "name": "python3"
  },
  "language_info": {
   "name": "python",
   "version": "3.12.1"
  }
 },
 "nbformat": 4,
 "nbformat_minor": 2
}
