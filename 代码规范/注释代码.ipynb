{
 "cells": [
  {
   "cell_type": "markdown",
   "metadata": {},
   "source": [
    "# 注释代码\n",
    "## 单行注释要使用`#`而不是`//`\n",
    "比如 \n",
    "```python\n",
    "# 这是一个单行注释\n",
    "```\n",
    "## 多行注释要使用`'''`或者`\"\"\"`而不是`/* */`\n",
    "比如\n",
    "```python\n",
    "'''\n",
    "这是一个多行注释\n",
    "这是一个多行注释\n",
    "这是一个多行注释\n",
    "这是一个多行注释\n",
    "'''\n",
    "```\n"
   ]
  },
  {
   "cell_type": "code",
   "execution_count": null,
   "metadata": {},
   "outputs": [
    {
     "name": "stdout",
     "output_type": "stream",
     "text": [
      "单行注释代码要使用`#`而不是`//`\n"
     ]
    }
   ],
   "source": [
    "# 单行注释代码要使用#\n",
    "print(\"单行注释代码要使用`#`而不是`//`\") # 注释也可以写在行尾"
   ]
  },
  {
   "cell_type": "code",
   "execution_count": 4,
   "metadata": {},
   "outputs": [
    {
     "name": "stdout",
     "output_type": "stream",
     "text": [
      "多行注释代码要使用三个单引号或者三个双引号\n"
     ]
    }
   ],
   "source": [
    "# 多行注释代码要使用三个单引号或者三个双引号\n",
    "'''\n",
    "多行注释代码要使用三个单引号或者三个双引号\n",
    "多行注释代码要使用三个单引号或者三个双引号\n",
    "多行注释代码要使用三个单引号或者三个双引号\n",
    "多行注释代码要使用三个单引号或者三个双引号\n",
    "'''\n",
    "\n",
    "\"\"\"\n",
    "多行注释代码要使用三个单引号或者三个双引号\n",
    "多行注释代码要使用三个单引号或者三个双引号\n",
    "多行注释代码要使用三个单引号或者三个双引号\n",
    "多行注释代码要使用三个单引号或者三个双引号\n",
    "\"\"\"\n",
    "\n",
    "print(\"多行注释代码要使用三个单引号或者三个双引号\")\n"
   ]
  }
 ],
 "metadata": {
  "kernelspec": {
   "display_name": "Python 3",
   "language": "python",
   "name": "python3"
  },
  "language_info": {
   "codemirror_mode": {
    "name": "ipython",
    "version": 3
   },
   "file_extension": ".py",
   "mimetype": "text/x-python",
   "name": "python",
   "nbconvert_exporter": "python",
   "pygments_lexer": "ipython3",
   "version": "3.12.1"
  }
 },
 "nbformat": 4,
 "nbformat_minor": 2
}
