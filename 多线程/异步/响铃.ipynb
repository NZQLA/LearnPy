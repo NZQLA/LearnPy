{
 "cells": [
  {
   "cell_type": "markdown",
   "metadata": {
    "vscode": {
     "languageId": "plaintext"
    }
   },
   "source": [
    "# 响铃"
   ]
  },
  {
   "cell_type": "code",
   "execution_count": 5,
   "metadata": {},
   "outputs": [
    {
     "name": "stdout",
     "output_type": "stream",
     "text": [
      "Beep: 1981 Hz, 25 ms\n",
      "Done\n"
     ]
    }
   ],
   "source": [
    "import winsound\n",
    "import time\n",
    "hzFrom = 100\n",
    "hzTo = 2000\n",
    "splitCount = 100\n",
    "duration = 25\n",
    "hzCurrent = hzFrom\n",
    "\n",
    "\n",
    "def beepCurrent(current):\n",
    "    winsound.Beep(current, duration)\n",
    "    print(f\"\\rBeep: {current} Hz, {duration} ms\",end=\"\")\n",
    "    # 等待一段时间\n",
    "    time.sleep(duration*0.001)    \n",
    "\n",
    "for i in range(hzFrom, hzTo, int((hzTo - hzFrom) / splitCount)):\n",
    "    hzCurrent = i\n",
    "    beepCurrent(hzCurrent)\n",
    "    # winsound.Beep(i, duration)\n",
    "    # print(f\"\\rBeep: {i} Hz, {duration} ms\",end=\"\")\n",
    "    # # 等待一段时间\n",
    "    # time.sleep(duration*0.001)\n",
    "\n",
    "print(\"\\nDone\")"
   ]
  },
  {
   "cell_type": "markdown",
   "metadata": {},
   "source": [
    "## 异步版响铃"
   ]
  },
  {
   "cell_type": "code",
   "execution_count": null,
   "metadata": {},
   "outputs": [
    {
     "name": "stdout",
     "output_type": "stream",
     "text": [
      "Beep: 1981 Hz, 25 ms\n",
      "Done\n"
     ]
    }
   ],
   "source": [
    "import asyncio\n",
    "import winsound\n",
    "import time\n",
    "hzFrom = 100\n",
    "hzTo = 2000\n",
    "splitCount = 100\n",
    "duration = 25\n",
    "hzCurrent = hzFrom\n",
    "\n",
    "\n",
    "async def beepCurrent(current):\n",
    "    winsound.Beep(current, duration)\n",
    "    print(f\"\\rBeep: {current} Hz, {duration} ms\",end=\"\")\n",
    "    # 等待一段时间\n",
    "    # time.sleep(duration*0.001)    \n",
    "    await asyncio.sleep(duration*0.001)\n",
    "    \n",
    "\n",
    "for i in range(hzFrom, hzTo, int((hzTo - hzFrom) / splitCount)):\n",
    "    hzCurrent = i\n",
    "    await beepCurrent(hzCurrent)\n",
    "    # winsound.Beep(i, duration)\n",
    "    # print(f\"\\rBeep: {i} Hz, {duration} ms\",end=\"\")\n",
    "    # # 等待一段时间\n",
    "    # time.sleep(duration*0.001)\n",
    "\n",
    "print(\"\\nDone\")"
   ]
  }
 ],
 "metadata": {
  "kernelspec": {
   "display_name": "Python 3",
   "language": "python",
   "name": "python3"
  },
  "language_info": {
   "codemirror_mode": {
    "name": "ipython",
    "version": 3
   },
   "file_extension": ".py",
   "mimetype": "text/x-python",
   "name": "python",
   "nbconvert_exporter": "python",
   "pygments_lexer": "ipython3",
   "version": "3.13.2"
  }
 },
 "nbformat": 4,
 "nbformat_minor": 2
}
