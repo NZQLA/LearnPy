{
 "cells": [
  {
   "cell_type": "markdown",
   "metadata": {},
   "source": [
    "# 特性\n",
    "- 元素是没有顺序的\n",
    "- 不限制 元素类型\n",
    "- 不允许 重复元素\n",
    "- 不允许 修改元素的值，但是允许增删元素\n"
   ]
  },
  {
   "cell_type": "markdown",
   "metadata": {},
   "source": [
    "# 创建集合 "
   ]
  },
  {
   "cell_type": "markdown",
   "metadata": {},
   "source": [
    "## 创建一个空集合"
   ]
  },
  {
   "cell_type": "code",
   "execution_count": 1,
   "metadata": {},
   "outputs": [
    {
     "name": "stdout",
     "output_type": "stream",
     "text": [
      "空集合: set()\n"
     ]
    }
   ],
   "source": [
    "# 创建一个空集合\n",
    "empty_set = set()\n",
    "print(\"空集合:\", empty_set)"
   ]
  },
  {
   "cell_type": "markdown",
   "metadata": {},
   "source": [
    "## 创建一个带有初始元素的集合 `name = {itemValue1, itemValue2, ...}`\n",
    "要使用`{}`创建一个集合，集合中的元素用逗号分隔。"
   ]
  },
  {
   "cell_type": "code",
   "execution_count": 2,
   "metadata": {},
   "outputs": [
    {
     "name": "stdout",
     "output_type": "stream",
     "text": [
      "带有初始元素的集合: {1, 2, 3, 4, 5}\n"
     ]
    }
   ],
   "source": [
    "# 创建一个带有初始元素的集合\n",
    "initial_set = {1, 2, 3, 4, 5}\n",
    "print(\"带有初始元素的集合:\", initial_set)\n"
   ]
  },
  {
   "cell_type": "markdown",
   "metadata": {},
   "source": [
    "## 使用随机库生成一个包含随机数的集合"
   ]
  },
  {
   "cell_type": "code",
   "execution_count": null,
   "metadata": {},
   "outputs": [],
   "source": [
    "# 使用随机库生成一个包含随机数的集合\n",
    "import random\n",
    "\n",
    "random_set = {random.randint(1, 100) for _ in range(10)}\n",
    "print(\"包含随机数的集合:\", random_set)"
   ]
  },
  {
   "cell_type": "markdown",
   "metadata": {},
   "source": [
    "# 集合的基本操作\n",
    "## 操作单个元素\n",
    "- 添加元素 `setTemp.add(vlaue)`\n",
    "- 删除元素 `setTemp.remove(value)`\n",
    "- 检查元素是否存在 `value in setTemp`\n",
    "## 整体操作集合\n",
    "- 集合的长度 `len(setTemp)`\n",
    "- 遍历集合 `for item in setTemp:`\n",
    "- 清空集合 `setTemp.clear()`\n",
    "- 删除集合 `del setTemp`\n",
    "## 集合之间的操作\n",
    "- 集合的交集 `setTemp1 & setTemp2`\n",
    "- 集合的并集 `setTemp1 | setTemp2`\n",
    "- 集合的差集 `setTemp1 - setTemp2`\n",
    "- 集合的对称差集 `setTemp1 ^ setTemp2`"
   ]
  },
  {
   "cell_type": "code",
   "execution_count": null,
   "metadata": {},
   "outputs": [],
   "source": [
    "# 集合的基本操作\n",
    "\n",
    "# 添加元素\n",
    "initial_set.add(6)\n",
    "print(\"添加元素后的集合:\", initial_set)\n",
    "\n",
    "# 删除元素\n",
    "initial_set.remove(3)\n",
    "print(\"删除元素后的集合:\", initial_set)\n",
    "\n",
    "# 检查元素是否存在\n",
    "element_exists = 2 in initial_set\n",
    "print(\"元素2是否在集合中:\", element_exists)\n",
    "\n",
    "# 清空集合\n",
    "initial_set.clear()\n",
    "print(\"清空后的集合:\", initial_set)\n",
    "\n",
    "# 集合的长度\n",
    "set_length = len(random_set)\n",
    "print(\"随机集合的长度:\", set_length)\n",
    "\n",
    "# 集合的并集\n",
    "another_set = {50, 60, 70}\n",
    "union_set = random_set.union(another_set)\n",
    "print(\"集合的并集:\", union_set)\n",
    "\n",
    "# 集合的交集\n",
    "intersection_set = random_set.intersection(another_set)\n",
    "print(\"集合的交集:\", intersection_set)\n",
    "\n",
    "# 集合的差集\n",
    "difference_set = random_set.difference(another_set)\n",
    "print(\"集合的差集:\", difference_set)"
   ]
  },
  {
   "cell_type": "markdown",
   "metadata": {},
   "source": [
    "## 去重\n",
    "当你创建一个包含重复元素的集合时，Python 会自动去除重复的元素。<br/>\n",
    "```python\n",
    "weeks = {1,2,3,4,5,6,7,3,2,6,5}\n",
    "print(weeks,\"长度\",weeks.__len__()) # {1, 2, 3, 4, 5, 6, 7} 长度 7\n",
    "```\n",
    "使用 set() 方法将集合或者其他可迭代对象（如列表、元组等）转换为集合，并且去除其中的重复元素。\n",
    "`newSet = set(oldSet)`"
   ]
  },
  {
   "cell_type": "code",
   "execution_count": null,
   "metadata": {},
   "outputs": [
    {
     "name": "stdout",
     "output_type": "stream",
     "text": [
      "{1, 2, 3, 4, 5, 6, 7} 长度 7 去重后的集合: {1, 2, 3, 4, 5, 6, 7} 长度 7\n"
     ]
    }
   ],
   "source": [
    "weeks = {1,2,3,4,5,6,7,3,2,6,5}\n",
    "weeksUnique = set(weeks)\n",
    "print(weeks,\"长度\",weeks.__len__(),\"去重后的集合:\", weeksUnique,\"长度\",weeksUnique.__len__())"
   ]
  },
  {
   "cell_type": "markdown",
   "metadata": {},
   "source": [
    "# 集合的高级操作\n",
    "展示集合的高级操作，如集合的并集、交集、差集和对称差集。"
   ]
  },
  {
   "cell_type": "code",
   "execution_count": null,
   "metadata": {},
   "outputs": [],
   "source": [
    "# 集合的高级操作\n",
    "\n",
    "# 创建两个集合\n",
    "set_a = {1, 2, 3, 4, 5}\n",
    "set_b = {4, 5, 6, 7, 8}\n",
    "\n",
    "# 并集\n",
    "union_ab = set_a | set_b\n",
    "print(\"集合的并集:\", union_ab)\n",
    "# 集合的并集: {1, 2, 3, 4, 5, 6, 7, 8}\n",
    "\n",
    "# 交集\n",
    "intersection_ab = set_a & set_b\n",
    "print(\"集合的交集:\", intersection_ab)\n",
    "# 集合的交集: {4, 5}\n",
    "\n",
    "# 差集(a中有b中没有的元素)\n",
    "difference_ab = set_a - set_b\n",
    "print(\"集合的差集:\", difference_ab)\n",
    "# 集合的差集: {1, 2, 3}\n",
    "\n",
    "# 对称差集(2个集合中不重复的元素)\n",
    "symmetric_difference_ab = set_a ^ set_b\n",
    "print(\"集合的对称差集:\", symmetric_difference_ab)\n",
    "# 集合的对称差集: {1, 2, 3, 6, 7, 8}"
   ]
  },
  {
   "cell_type": "markdown",
   "metadata": {},
   "source": [
    "# 集合的应用示例\n",
    "提供一些实际应用集合的示例，如去重、集合运算等。"
   ]
  },
  {
   "cell_type": "code",
   "execution_count": null,
   "metadata": {},
   "outputs": [],
   "source": [
    "# 集合的应用示例\n",
    "\n",
    "# 示例1: 去重\n",
    "# 创建一个包含重复元素的列表\n",
    "list_with_duplicates = [1, 2, 2, 3, 4, 4, 5]\n",
    "# 使用集合去重\n",
    "unique_elements = set(list_with_duplicates)\n",
    "print(\"去重后的元素:\", unique_elements)\n",
    "\n",
    "# 示例2: 集合运算\n",
    "# 创建两个集合\n",
    "set_x = {1, 2, 3, 4, 5}\n",
    "set_y = {4, 5, 6, 7, 8}\n",
    "\n",
    "# 并集\n",
    "union_xy = set_x | set_y\n",
    "print(\"集合X和集合Y的并集:\", union_xy)\n",
    "\n",
    "# 交集\n",
    "intersection_xy = set_x & set_y\n",
    "print(\"集合X和集合Y的交集:\", intersection_xy)\n",
    "\n",
    "# 差集\n",
    "difference_xy = set_x - set_y\n",
    "print(\"集合X和集合Y的差集:\", difference_xy)\n",
    "\n",
    "# 对称差集\n",
    "symmetric_difference_xy = set_x ^ set_y\n",
    "print(\"集合X和集合Y的对称差集:\", symmetric_difference_xy)\n",
    "\n",
    "# 示例3: 判断子集和超集\n",
    "# 判断set_x是否是set_y的子集\n",
    "is_subset = set_x.issubset(set_y)\n",
    "print(\"集合X是否是集合Y的子集:\", is_subset)\n",
    "\n",
    "# 判断set_y是否是set_x的超集\n",
    "is_superset = set_y.issuperset(set_x)\n",
    "print(\"集合Y是否是集合X的超集:\", is_superset)\n",
    "\n",
    "# 示例4: 集合的不可变集合\n",
    "# 创建一个不可变集合\n",
    "frozenset_example = frozenset([1, 2, 3, 4, 5])\n",
    "print(\"不可变集合:\", frozenset_example)\n",
    "\n",
    "# 尝试添加元素到不可变集合会引发错误\n",
    "try:\n",
    "    frozenset_example.add(6)\n",
    "except AttributeError as e:\n",
    "    print(\"错误:\", e)"
   ]
  }
 ],
 "metadata": {
  "kernelspec": {
   "display_name": "Python 3",
   "language": "python",
   "name": "python3"
  },
  "language_info": {
   "codemirror_mode": {
    "name": "ipython",
    "version": 3
   },
   "file_extension": ".py",
   "mimetype": "text/x-python",
   "name": "python",
   "nbconvert_exporter": "python",
   "pygments_lexer": "ipython3",
   "version": "3.13.2"
  }
 },
 "nbformat": 4,
 "nbformat_minor": 2
}
